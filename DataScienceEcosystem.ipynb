{
 "cells": [
  {
   "cell_type": "markdown",
   "id": "4b23d520-fcab-46cb-b3ee-7f003879bd09",
   "metadata": {},
   "source": [
    "# Data Science Tools and Ecosystems"
   ]
  },
  {
   "cell_type": "markdown",
   "id": "f8eb87fb-5e2c-4a54-9afa-d18d01c7ad2c",
   "metadata": {
    "editable": true,
    "slideshow": {
     "slide_type": ""
    },
    "tags": []
   },
   "source": [
    "![2-title.png](2-title.png)"
   ]
  },
  {
   "cell_type": "markdown",
   "id": "ef97f834-b34d-4e54-a760-d251b009869e",
   "metadata": {
    "editable": true,
    "slideshow": {
     "slide_type": ""
    },
    "tags": []
   },
   "source": [
    "This notebook summarizes data science tools and ecosystems"
   ]
  },
  {
   "cell_type": "markdown",
   "id": "caa70b67-3884-42c4-83f8-5940c379417b",
   "metadata": {},
   "source": [
    "Some popular computer languages for data Scientists are:\n",
    "\n",
    "1. Python\n",
    "2. R\n",
    "3. JavaScript"
   ]
  },
  {
   "cell_type": "markdown",
   "id": "28736a10-4719-4e7f-ab07-07df2eed7031",
   "metadata": {},
   "source": [
    "Data Scientits frequently use the following libraries:\n",
    "\n",
    "1. ggplot\n",
    "2. lattice\n",
    "3. Pandas\n",
    "4. Numpy"
   ]
  },
  {
   "cell_type": "markdown",
   "id": "7def964e-3b00-46d3-85b2-90a88efce86e",
   "metadata": {},
   "source": [
    "|Data Science Tools|\n",
    "| -----------------|\n",
    "| RStudio | \n",
    "| Code Studio |\n",
    "| JupyterLab or JupyterNotebook |"
   ]
  },
  {
   "cell_type": "markdown",
   "id": "b38b3ed3-fe3d-427d-a1b0-b216464c96ff",
   "metadata": {},
   "source": [
    "### Below are some examples of evalutating arithemetic expressions in Python"
   ]
  },
  {
   "cell_type": "code",
   "execution_count": 2,
   "id": "4e5f1fe9-4cef-49f0-8848-7518ab7f7bdc",
   "metadata": {},
   "outputs": [
    {
     "name": "stdout",
     "output_type": "stream",
     "text": [
      "17\n"
     ]
    }
   ],
   "source": [
    "# A simple expression to multiply and add some numbers\n",
    "\n",
    "print((3*4)+5)"
   ]
  },
  {
   "cell_type": "code",
   "execution_count": 3,
   "id": "a19a9c25-94d4-4a42-9532-0bc6fc18d821",
   "metadata": {},
   "outputs": [
    {
     "name": "stdout",
     "output_type": "stream",
     "text": [
      "3.3333333333333335\n"
     ]
    }
   ],
   "source": [
    "# This will convert 200 minutes to hours by dividing by 60\n",
    "\n",
    "minutes = 200\n",
    "hours = minutes / 60\n",
    "print(hours)"
   ]
  },
  {
   "cell_type": "markdown",
   "id": "401988e8-bff9-4f20-ba05-1b3745b3259a",
   "metadata": {},
   "source": [
    "__Objectives:__\n",
    "\n",
    "* R \n",
    "* python\n",
    "* Java\n",
    "* JavaScript\n",
    "* C++"
   ]
  },
  {
   "cell_type": "markdown",
   "id": "72069c89-1ceb-48ba-9ea0-11de91cc06fb",
   "metadata": {
    "editable": true,
    "slideshow": {
     "slide_type": ""
    },
    "tags": []
   },
   "source": [
    "## Author\n",
    "Jonathan Benning"
   ]
  }
 ],
 "metadata": {
  "kernelspec": {
   "display_name": "Python 3 (ipykernel)",
   "language": "python",
   "name": "python3"
  },
  "language_info": {
   "codemirror_mode": {
    "name": "ipython",
    "version": 3
   },
   "file_extension": ".py",
   "mimetype": "text/x-python",
   "name": "python",
   "nbconvert_exporter": "python",
   "pygments_lexer": "ipython3",
   "version": "3.12.5"
  }
 },
 "nbformat": 4,
 "nbformat_minor": 5
}
